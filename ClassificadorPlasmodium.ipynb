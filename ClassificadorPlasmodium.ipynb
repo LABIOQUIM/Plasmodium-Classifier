{
  "nbformat": 4,
  "nbformat_minor": 0,
  "metadata": {
    "colab": {
      "name": "ClassificadorPlasmodium.ipynb",
      "provenance": [],
      "collapsed_sections": [],
      "mount_file_id": "1EcfbmFzT8fGX2XKo2SvBNve1ew97NPGP",
      "authorship_tag": "ABX9TyN9msdASB1KiDxDG1qFNUHp",
      "include_colab_link": true
    },
    "kernelspec": {
      "name": "python3",
      "display_name": "Python 3"
    },
    "accelerator": "GPU"
  },
  "cells": [
    {
      "cell_type": "markdown",
      "metadata": {
        "id": "view-in-github",
        "colab_type": "text"
      },
      "source": [
        "<a href=\"https://colab.research.google.com/github/ThalesGomesJr/Plasmodium-Classifier/blob/master/ClassificadorPlasmodium.ipynb\" target=\"_parent\"><img src=\"https://colab.research.google.com/assets/colab-badge.svg\" alt=\"Open In Colab\"/></a>"
      ]
    },
    {
      "cell_type": "markdown",
      "metadata": {
        "id": "Nundk8WaPHQ0",
        "colab_type": "text"
      },
      "source": [
        "# Projeto de Rede Neural Convolucional para Classificar Plasmodium\n",
        "\n",
        "---\n",
        "\n"
      ]
    },
    {
      "cell_type": "markdown",
      "metadata": {
        "id": "vKljZ_-AP8Aa",
        "colab_type": "text"
      },
      "source": [
        "### Etapa 1: Adicionando Bibliotecas\n",
        "\n",
        "---\n",
        "\n"
      ]
    },
    {
      "cell_type": "code",
      "metadata": {
        "id": "Q8iMbmHoNbOd",
        "colab_type": "code",
        "colab": {}
      },
      "source": [
        "import torch\n",
        "from torch import nn, optim\n",
        "from torchvision import datasets, transforms\n",
        "import matplotlib.pyplot as plt\n",
        "import numpy as np\n",
        "import zipfile"
      ],
      "execution_count": null,
      "outputs": []
    },
    {
      "cell_type": "code",
      "metadata": {
        "id": "wXwegTbsWAKe",
        "colab_type": "code",
        "colab": {
          "base_uri": "https://localhost:8080/",
          "height": 34
        },
        "outputId": "2fa9a427-047f-4dac-8e7a-a4c0d0771d6e"
      },
      "source": [
        "torch.manual_seed(123)"
      ],
      "execution_count": null,
      "outputs": [
        {
          "output_type": "execute_result",
          "data": {
            "text/plain": [
              "<torch._C.Generator at 0x7f741bb640d8>"
            ]
          },
          "metadata": {
            "tags": []
          },
          "execution_count": 2
        }
      ]
    },
    {
      "cell_type": "markdown",
      "metadata": {
        "id": "7Y1oJ2epQMU3",
        "colab_type": "text"
      },
      "source": [
        "### Etapa 2: Contrução do Modelo\n",
        "\n",
        "---\n",
        "\n"
      ]
    },
    {
      "cell_type": "code",
      "metadata": {
        "id": "pze1sZR9QQuz",
        "colab_type": "code",
        "colab": {}
      },
      "source": [
        "#output = (input - filter + 1) / stride\n",
        "classificador = nn.Sequential(nn.Conv2d(in_channels = 3, \n",
        "                                        out_channels = 32,\n",
        "                                        kernel_size = 3),\n",
        "                              nn.ReLU(),\n",
        "                              nn.BatchNorm2d(num_features = 32),\n",
        "                              #(64 - 3 + 1) / 1 = 62x62\n",
        "                              nn.MaxPool2d(kernel_size = 2),\n",
        "                              #31x31\n",
        "                              nn.Conv2d(32, 32, 3),\n",
        "                              nn.ReLU(),\n",
        "                              nn.BatchNorm2d(32),\n",
        "                              #(31 - 3 + 1) / 1 = 29x29\n",
        "                              nn.MaxPool2d(2),\n",
        "                              #14x14\n",
        "                              nn.Flatten(),\n",
        "                              #6272 -> 128 -> 128 -> 1\n",
        "                              nn.Linear(in_features = 14*14*32, out_features = 128),\n",
        "                              nn.ReLU(),\n",
        "                              nn.Dropout(0.2),\n",
        "                              nn.Linear(128, 128),\n",
        "                              nn.ReLU(),\n",
        "                              nn.Dropout(0.2),\n",
        "                              nn.Linear(128, 1),\n",
        "                              nn.Sigmoid())"
      ],
      "execution_count": null,
      "outputs": []
    },
    {
      "cell_type": "code",
      "metadata": {
        "id": "7b6k4pCzQfj7",
        "colab_type": "code",
        "colab": {}
      },
      "source": [
        "criterion = nn.BCELoss()\n",
        "optmizer = optim.Adam(classificador.parameters())"
      ],
      "execution_count": null,
      "outputs": []
    },
    {
      "cell_type": "markdown",
      "metadata": {
        "id": "rkXw6soIQs0x",
        "colab_type": "text"
      },
      "source": [
        "### Etapa 3: Base de dados\n",
        "\n",
        "---"
      ]
    },
    {
      "cell_type": "code",
      "metadata": {
        "id": "9f4w4fnxQud1",
        "colab_type": "code",
        "colab": {}
      },
      "source": [
        "path = '/content/drive/My Drive/PIBITI/Dataset Plasmodium/plasmodium_images.zip'\n",
        "zip_object = zipfile.ZipFile(file = path, mode = 'r')\n",
        "zip_object.extractall('./')\n",
        "zip_object.close()"
      ],
      "execution_count": null,
      "outputs": []
    },
    {
      "cell_type": "code",
      "metadata": {
        "id": "_YF5VMtuRkZw",
        "colab_type": "code",
        "colab": {}
      },
      "source": [
        "data_dir_train = '/content/plasmodium_images/dataset/train_set'\n",
        "data_dir_test = '/content/plasmodium_images/dataset/test_set'"
      ],
      "execution_count": null,
      "outputs": []
    },
    {
      "cell_type": "code",
      "metadata": {
        "id": "skYm8fOtRyQu",
        "colab_type": "code",
        "colab": {}
      },
      "source": [
        "#Transforma as imagens para que após o treinamento a rede neural também consiga \n",
        "#classificar imagens com qualidade ruim, ou distorcidas.\n",
        "transform_train = transforms.Compose(\n",
        "    [\n",
        "     #Dimensiona todas as imagem para ter o mesmo tamanho. \n",
        "     transforms.Resize([64, 64]),\n",
        "     transforms.RandomHorizontalFlip(),\n",
        "     transforms.RandomAffine(degrees = 7, translate = (0, 0.07), shear = 0.2, scale = (1, 1.2)),\n",
        "     #transforma para o formto tensor\n",
        "     transforms.ToTensor()\n",
        "    ]\n",
        ")"
      ],
      "execution_count": null,
      "outputs": []
    },
    {
      "cell_type": "code",
      "metadata": {
        "id": "vwuZNQXISkST",
        "colab_type": "code",
        "colab": {}
      },
      "source": [
        "transform_test = transforms.Compose(\n",
        "    [\n",
        "     #Dimensiona todas as imagem para ter o mesmo tamanho.\n",
        "     transforms.Resize([64, 64]),\n",
        "     #transforma para o formto tensor\n",
        "     transforms.ToTensor()\n",
        "    ]\n",
        ")"
      ],
      "execution_count": null,
      "outputs": []
    },
    {
      "cell_type": "code",
      "metadata": {
        "id": "gXDGEdDRR_di",
        "colab_type": "code",
        "colab": {}
      },
      "source": [
        "#Cria o dataset para treinamento\n",
        "train_dataset = datasets.ImageFolder(data_dir_train, transform = transform_train)\n",
        "train_loader = torch.utils.data.DataLoader(train_dataset, batch_size = 32, shuffle = True)"
      ],
      "execution_count": null,
      "outputs": []
    },
    {
      "cell_type": "code",
      "metadata": {
        "id": "IBKtSML_SPBh",
        "colab_type": "code",
        "colab": {}
      },
      "source": [
        "#Cria o dataset para teste\n",
        "test_dataset = datasets.ImageFolder(data_dir_test, transform = transform_test)\n",
        "test_loader = torch.utils.data.DataLoader(test_dataset, batch_size = 32, shuffle = True)"
      ],
      "execution_count": null,
      "outputs": []
    },
    {
      "cell_type": "markdown",
      "metadata": {
        "id": "eNMNIWzITsXC",
        "colab_type": "text"
      },
      "source": [
        "### Etapa 4: Treinamento do modelo\n",
        "\n",
        "\n",
        "---"
      ]
    },
    {
      "cell_type": "code",
      "metadata": {
        "id": "IksN1CZBTv2D",
        "colab_type": "code",
        "colab": {
          "base_uri": "https://localhost:8080/",
          "height": 340
        },
        "outputId": "1ec8864f-d6fe-4d2c-c2d3-2497ebe9a492"
      },
      "source": [
        "device = torch.device('cuda') if torch.cuda.is_available() else torch.device('cpu')\n",
        "classificador.to(device)"
      ],
      "execution_count": null,
      "outputs": [
        {
          "output_type": "execute_result",
          "data": {
            "text/plain": [
              "Sequential(\n",
              "  (0): Conv2d(3, 32, kernel_size=(3, 3), stride=(1, 1))\n",
              "  (1): ReLU()\n",
              "  (2): BatchNorm2d(32, eps=1e-05, momentum=0.1, affine=True, track_running_stats=True)\n",
              "  (3): MaxPool2d(kernel_size=2, stride=2, padding=0, dilation=1, ceil_mode=False)\n",
              "  (4): Conv2d(32, 32, kernel_size=(3, 3), stride=(1, 1))\n",
              "  (5): ReLU()\n",
              "  (6): BatchNorm2d(32, eps=1e-05, momentum=0.1, affine=True, track_running_stats=True)\n",
              "  (7): MaxPool2d(kernel_size=2, stride=2, padding=0, dilation=1, ceil_mode=False)\n",
              "  (8): Flatten()\n",
              "  (9): Linear(in_features=6272, out_features=128, bias=True)\n",
              "  (10): ReLU()\n",
              "  (11): Dropout(p=0.2, inplace=False)\n",
              "  (12): Linear(in_features=128, out_features=128, bias=True)\n",
              "  (13): ReLU()\n",
              "  (14): Dropout(p=0.2, inplace=False)\n",
              "  (15): Linear(in_features=128, out_features=1, bias=True)\n",
              "  (16): Sigmoid()\n",
              ")"
            ]
          },
          "metadata": {
            "tags": []
          },
          "execution_count": 11
        }
      ]
    },
    {
      "cell_type": "code",
      "metadata": {
        "id": "nOtwb_vxUiab",
        "colab_type": "code",
        "colab": {}
      },
      "source": [
        "#Função de treinamento da rede\n",
        "def training_loop(loader, epoch):\n",
        "    running_loss = 0.\n",
        "    running_accuracy = 0.\n",
        "    \n",
        "    for i, data in enumerate(loader):\n",
        "        inputs, labels = data\n",
        "        inputs, labels = inputs.to(device), labels.to(device)\n",
        "        \n",
        "        optmizer.zero_grad()        \n",
        "        outputs = classificador(inputs)\n",
        "        \n",
        "        loss = criterion(outputs, labels.float().view(*outputs.shape))\n",
        "        loss.backward()\n",
        "        \n",
        "        optmizer.step()\n",
        "\n",
        "        running_loss += loss.item()\n",
        "\n",
        "        predicted = torch.tensor([1 if output > 0.5 else 0 for output in outputs]).to(device)\n",
        "        \n",
        "        equals = predicted == labels.view(*predicted.shape)\n",
        "        \n",
        "        accuracy = torch.mean(equals.float())\n",
        "        running_accuracy += accuracy\n",
        "                   \n",
        "        #Imprimindo os dados referentes a esse loop\n",
        "        print('\\r ÉPOCA {:3d} - Loop {:3d} de {:3d}: perda {:03.2f} - precisão {:03.2f}'.format(epoch + 1, i + 1, len(loader), loss, accuracy), end = '\\r')\n",
        "        \n",
        "    #Imprimindo os dados referentes a essa época\n",
        "    print('\\r ÉPOCA {:3d} FINALIZADA: perda {:.5f} - precisão {:.5f}'.format(epoch + 1, running_loss/len(loader), running_accuracy/len(loader)))\n"
      ],
      "execution_count": null,
      "outputs": []
    },
    {
      "cell_type": "code",
      "metadata": {
        "id": "gSjmg32wWMUJ",
        "colab_type": "code",
        "colab": {
          "base_uri": "https://localhost:8080/",
          "height": 697
        },
        "outputId": "2f717ae0-e13f-4b8d-8c08-67c0de1dbf66"
      },
      "source": [
        "for epoch in range(10):\n",
        "    print('Treinando...')\n",
        "    training_loop(train_loader, epoch)\n",
        "    classificador.eval()\n",
        "    print('Validando...')\n",
        "    training_loop(test_loader, epoch)\n",
        "    classificador.train()"
      ],
      "execution_count": null,
      "outputs": [
        {
          "output_type": "stream",
          "text": [
            "Treinando...\n",
            " ÉPOCA   1 FINALIZADA: perda 0.33793 - precisão 0.86425\n",
            "Validando...\n",
            " ÉPOCA   1 FINALIZADA: perda 0.17258 - precisão 0.94601\n",
            "Treinando...\n",
            " ÉPOCA   2 FINALIZADA: perda 0.17387 - precisão 0.94185\n",
            "Validando...\n",
            " ÉPOCA   2 FINALIZADA: perda 0.14232 - precisão 0.95240\n",
            "Treinando...\n",
            " ÉPOCA   3 FINALIZADA: perda 0.15724 - precisão 0.94833\n",
            "Validando...\n",
            " ÉPOCA   3 FINALIZADA: perda 0.12116 - precisão 0.96134\n",
            "Treinando...\n",
            " ÉPOCA   4 FINALIZADA: perda 0.14831 - precisão 0.95196\n",
            "Validando...\n",
            " ÉPOCA   4 FINALIZADA: perda 0.11252 - precisão 0.95978\n",
            "Treinando...\n",
            " ÉPOCA   5 FINALIZADA: perda 0.15049 - precisão 0.95196\n",
            "Validando...\n",
            " ÉPOCA   5 FINALIZADA: perda 0.11039 - precisão 0.96455\n",
            "Treinando...\n",
            " ÉPOCA   6 FINALIZADA: perda 0.14686 - precisão 0.95075\n",
            "Validando...\n",
            " ÉPOCA   6 FINALIZADA: perda 0.08738 - precisão 0.97205\n",
            "Treinando...\n",
            " ÉPOCA   7 FINALIZADA: perda 0.14198 - precisão 0.95296\n",
            "Validando...\n",
            " ÉPOCA   7 FINALIZADA: perda 0.08887 - precisão 0.97106\n",
            "Treinando...\n",
            " ÉPOCA   8 FINALIZADA: perda 0.14129 - precisão 0.95408\n",
            "Validando...\n",
            " ÉPOCA   8 FINALIZADA: perda 0.06407 - precisão 0.97975\n",
            "Treinando...\n",
            " ÉPOCA   9 FINALIZADA: perda 0.13374 - precisão 0.95747\n",
            "Validando...\n",
            " ÉPOCA   9 FINALIZADA: perda 0.05431 - precisão 0.98206\n",
            "Treinando...\n",
            " ÉPOCA  10 FINALIZADA: perda 0.13310 - precisão 0.95650\n",
            "Validando...\n",
            " ÉPOCA  10 FINALIZADA: perda 0.06933 - precisão 0.97824\n"
          ],
          "name": "stdout"
        }
      ]
    },
    {
      "cell_type": "markdown",
      "metadata": {
        "id": "NUWrKTwrWQA6",
        "colab_type": "text"
      },
      "source": [
        "### Etapa 5: Avaliação do Modelo\n",
        "\n",
        "---"
      ]
    },
    {
      "cell_type": "code",
      "metadata": {
        "id": "5ipXeo4TYgS5",
        "colab_type": "code",
        "colab": {}
      },
      "source": [
        "#Função de classificação da imagem inserida\n",
        "def classificar_imagem(fname):\n",
        "  from PIL import Image\n",
        "  imagem_teste = Image.open(data_dir_test + '/' + fname)\n",
        "  plt.imshow(imagem_teste)\n",
        "  plt.show()\n",
        "  \n",
        "  imagem_teste = imagem_teste.resize((64, 64))\n",
        "  imagem_teste = np.array(imagem_teste.getdata()).reshape(*imagem_teste.size, 3)\n",
        "  imagem_teste = imagem_teste / 255\n",
        "  imagem_teste = imagem_teste.transpose(2, 0, 1)\n",
        "  imagem_teste = torch.tensor(imagem_teste, dtype=torch.float).view(-1, *imagem_teste.shape)\n",
        "\n",
        "  classificador.eval()\n",
        "  imagem_teste = imagem_teste.to(device)\n",
        "  output = classificador.forward(imagem_teste)\n",
        "  #Se a previsão de Uninfected for maior que 50%\n",
        "  if output > 0.5:\n",
        "    output = 0\n",
        "  #Caso a previsão de Uninfected for menor que 50% a rede neural classifica como Parasitized \n",
        "  else:\n",
        "    output = 1\n",
        "  print('Previsão: ', output)\n",
        "  #Usar quando inserir um array de imagens\n",
        "  if output == 0: \n",
        "    print('|Uninfected|') \n",
        "  else: \n",
        "    print('|Parasitized|')\n",
        "  print('___________________________')\n",
        "  \n",
        "  #Usar quando inserir uma imagem por vez\n",
        "  #idx_to_class = {value: key for key, value in test_dataset.class_to_idx.items()}\n",
        "  #return idx_to_class[output]"
      ],
      "execution_count": null,
      "outputs": []
    },
    {
      "cell_type": "code",
      "metadata": {
        "id": "MXHtEADHZhfc",
        "colab_type": "code",
        "colab": {
          "base_uri": "https://localhost:8080/",
          "height": 320
        },
        "outputId": "a68018d5-e20b-45a7-e888-2333c8e1f1e5"
      },
      "source": [
        "import os\n",
        "import random\n",
        "\n",
        "imagens = os.listdir(data_dir_test + '/Parasitized')\n",
        "\n",
        "img_selecionada = random.choice(imagens)\n",
        "classificar_imagem('/Parasitized/' + img_selecionada)"
      ],
      "execution_count": null,
      "outputs": [
        {
          "output_type": "display_data",
          "data": {
            "image/png": "[encoded data removed]",
            "text/plain": [
              "<Figure size 432x288 with 1 Axes>"
            ]
          },
          "metadata": {
            "tags": [],
            "needs_background": "light"
          }
        },
        {
          "output_type": "stream",
          "text": [
            "Previsão:  1\n",
            "|Parasitized|\n",
            "___________________________\n"
          ],
          "name": "stdout"
        }
      ]
    },
    {
      "cell_type": "code",
      "metadata": {
        "id": "NTFWKcPkbq3N",
        "colab_type": "code",
        "colab": {
          "base_uri": "https://localhost:8080/",
          "height": 319
        },
        "outputId": "34cdd5f5-520b-433c-d0ff-eec9ded31922"
      },
      "source": [
        "import os\n",
        "import random\n",
        "\n",
        "imagens = os.listdir(data_dir_test + '/Uninfected')\n",
        "\n",
        "img_selecionada = random.choice(imagens)\n",
        "classificar_imagem('/Uninfected/' + img_selecionada)"
      ],
      "execution_count": null,
      "outputs": [
        {
          "output_type": "display_data",
          "data": {
            "image/png": "[encoded data removed]",
            "text/plain": [
              "<Figure size 432x288 with 1 Axes>"
            ]
          },
          "metadata": {
            "tags": [],
            "needs_background": "light"
          }
        },
        {
          "output_type": "stream",
          "text": [
            "Previsão:  0\n",
            "|Uninfected|\n",
            "___________________________\n"
          ],
          "name": "stdout"
        }
      ]
    }
  ]
}